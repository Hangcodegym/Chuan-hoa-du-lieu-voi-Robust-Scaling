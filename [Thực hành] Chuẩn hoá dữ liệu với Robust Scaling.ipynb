{
 "cells": [
  {
   "cell_type": "code",
   "execution_count": 1,
   "id": "61c684e3",
   "metadata": {},
   "outputs": [],
   "source": [
    "# Khai báo thư viện cần dùng\n",
    "import pandas as pd\n",
    "import numpy as np\n",
    "import matplotlib.pyplot as plt\n",
    "import seaborn as sns\n",
    "from sklearn.preprocessing import RobustScaler"
   ]
  },
  {
   "cell_type": "code",
   "execution_count": 2,
   "id": "69cb3c2b",
   "metadata": {},
   "outputs": [],
   "source": [
    "# Khởi tạo dữ liệu\n",
    "# tạo các cột theo các phần phối khác nhau\n",
    "df = pd.DataFrame({ \n",
    "    'beta': np.random.beta(5, 1, 1000) * 60,        # beta\n",
    "    'exponential': np.random.exponential(10, 1000), # exponential\n",
    "    'normal_p': np.random.normal(10, 2, 1000),      # normal platykurtic\n",
    "    'normal_l': np.random.normal(10, 10, 1000),     # normal leptokurtic\n",
    "})"
   ]
  },
  {
   "cell_type": "code",
   "execution_count": 3,
   "id": "3963b515",
   "metadata": {},
   "outputs": [],
   "source": [
    "# thêm dữ liệu được tạo theo phân phối nhị thức\n",
    "first_half = np.random.normal(20, 3, 500) \n",
    "second_half = np.random.normal(-20, 3, 500) \n",
    "bimodal = np.concatenate([first_half, second_half])\n",
    "\n",
    "df['bimodal'] = bimodal"
   ]
  },
  {
   "cell_type": "code",
   "execution_count": 4,
   "id": "8a36fd5a",
   "metadata": {},
   "outputs": [
    {
     "data": {
      "text/html": [
       "<div>\n",
       "<style scoped>\n",
       "    .dataframe tbody tr th:only-of-type {\n",
       "        vertical-align: middle;\n",
       "    }\n",
       "\n",
       "    .dataframe tbody tr th {\n",
       "        vertical-align: top;\n",
       "    }\n",
       "\n",
       "    .dataframe thead th {\n",
       "        text-align: right;\n",
       "    }\n",
       "</style>\n",
       "<table border=\"1\" class=\"dataframe\">\n",
       "  <thead>\n",
       "    <tr style=\"text-align: right;\">\n",
       "      <th></th>\n",
       "      <th>beta</th>\n",
       "      <th>exponential</th>\n",
       "      <th>normal_p</th>\n",
       "      <th>normal_l</th>\n",
       "      <th>bimodal</th>\n",
       "    </tr>\n",
       "  </thead>\n",
       "  <tbody>\n",
       "    <tr>\n",
       "      <th>0</th>\n",
       "      <td>52.522720</td>\n",
       "      <td>12.793446</td>\n",
       "      <td>9.515337</td>\n",
       "      <td>2.675061</td>\n",
       "      <td>21.340657</td>\n",
       "    </tr>\n",
       "    <tr>\n",
       "      <th>1</th>\n",
       "      <td>52.504718</td>\n",
       "      <td>1.037933</td>\n",
       "      <td>9.485906</td>\n",
       "      <td>5.605580</td>\n",
       "      <td>21.039898</td>\n",
       "    </tr>\n",
       "    <tr>\n",
       "      <th>2</th>\n",
       "      <td>51.168272</td>\n",
       "      <td>21.942389</td>\n",
       "      <td>11.148829</td>\n",
       "      <td>32.388306</td>\n",
       "      <td>20.812980</td>\n",
       "    </tr>\n",
       "    <tr>\n",
       "      <th>3</th>\n",
       "      <td>58.318794</td>\n",
       "      <td>17.282404</td>\n",
       "      <td>8.961370</td>\n",
       "      <td>-0.071763</td>\n",
       "      <td>18.102939</td>\n",
       "    </tr>\n",
       "    <tr>\n",
       "      <th>4</th>\n",
       "      <td>58.700267</td>\n",
       "      <td>18.159505</td>\n",
       "      <td>10.705862</td>\n",
       "      <td>11.130965</td>\n",
       "      <td>20.270034</td>\n",
       "    </tr>\n",
       "  </tbody>\n",
       "</table>\n",
       "</div>"
      ],
      "text/plain": [
       "        beta  exponential   normal_p   normal_l    bimodal\n",
       "0  52.522720    12.793446   9.515337   2.675061  21.340657\n",
       "1  52.504718     1.037933   9.485906   5.605580  21.039898\n",
       "2  51.168272    21.942389  11.148829  32.388306  20.812980\n",
       "3  58.318794    17.282404   8.961370  -0.071763  18.102939\n",
       "4  58.700267    18.159505  10.705862  11.130965  20.270034"
      ]
     },
     "execution_count": 4,
     "metadata": {},
     "output_type": "execute_result"
    }
   ],
   "source": [
    "# hiển thị dữ liệu\n",
    "df.head()"
   ]
  },
  {
   "cell_type": "code",
   "execution_count": 5,
   "id": "4a1c311d",
   "metadata": {},
   "outputs": [],
   "source": [
    "# Trực quan hóa dữ liệu sinh ra"
   ]
  },
  {
   "cell_type": "code",
   "execution_count": 6,
   "id": "be3aadd9",
   "metadata": {},
   "outputs": [
    {
     "data": {
      "text/plain": [
       "<AxesSubplot:ylabel='Density'>"
      ]
     },
     "execution_count": 6,
     "metadata": {},
     "output_type": "execute_result"
    },
    {
     "data": {
      "image/png": "[encoded data removed]",
      "text/plain": [
       "<Figure size 432x288 with 1 Axes>"
      ]
     },
     "metadata": {
      "needs_background": "light"
     },
     "output_type": "display_data"
    }
   ],
   "source": [
    "sns.kdeplot(data=df)"
   ]
  },
  {
   "cell_type": "code",
   "execution_count": 7,
   "id": "e0e325c1",
   "metadata": {},
   "outputs": [
    {
     "data": {
      "text/html": [
       "<div>\n",
       "<style scoped>\n",
       "    .dataframe tbody tr th:only-of-type {\n",
       "        vertical-align: middle;\n",
       "    }\n",
       "\n",
       "    .dataframe tbody tr th {\n",
       "        vertical-align: top;\n",
       "    }\n",
       "\n",
       "    .dataframe thead th {\n",
       "        text-align: right;\n",
       "    }\n",
       "</style>\n",
       "<table border=\"1\" class=\"dataframe\">\n",
       "  <thead>\n",
       "    <tr style=\"text-align: right;\">\n",
       "      <th></th>\n",
       "      <th>beta</th>\n",
       "      <th>exponential</th>\n",
       "      <th>normal_p</th>\n",
       "      <th>normal_l</th>\n",
       "      <th>bimodal</th>\n",
       "    </tr>\n",
       "  </thead>\n",
       "  <tbody>\n",
       "    <tr>\n",
       "      <th>count</th>\n",
       "      <td>1000.000000</td>\n",
       "      <td>1000.000000</td>\n",
       "      <td>1000.000000</td>\n",
       "      <td>1000.000000</td>\n",
       "      <td>1000.000000</td>\n",
       "    </tr>\n",
       "    <tr>\n",
       "      <th>mean</th>\n",
       "      <td>50.102067</td>\n",
       "      <td>10.132942</td>\n",
       "      <td>9.984585</td>\n",
       "      <td>10.357097</td>\n",
       "      <td>0.034786</td>\n",
       "    </tr>\n",
       "    <tr>\n",
       "      <th>std</th>\n",
       "      <td>8.602246</td>\n",
       "      <td>10.335633</td>\n",
       "      <td>2.037582</td>\n",
       "      <td>10.096566</td>\n",
       "      <td>20.155435</td>\n",
       "    </tr>\n",
       "    <tr>\n",
       "      <th>min</th>\n",
       "      <td>11.352953</td>\n",
       "      <td>0.000477</td>\n",
       "      <td>2.498854</td>\n",
       "      <td>-25.519886</td>\n",
       "      <td>-28.746578</td>\n",
       "    </tr>\n",
       "    <tr>\n",
       "      <th>25%</th>\n",
       "      <td>45.379257</td>\n",
       "      <td>2.585162</td>\n",
       "      <td>8.538781</td>\n",
       "      <td>2.989083</td>\n",
       "      <td>-19.917348</td>\n",
       "    </tr>\n",
       "    <tr>\n",
       "      <th>50%</th>\n",
       "      <td>52.474401</td>\n",
       "      <td>7.026642</td>\n",
       "      <td>9.892604</td>\n",
       "      <td>10.062010</td>\n",
       "      <td>0.576204</td>\n",
       "    </tr>\n",
       "    <tr>\n",
       "      <th>75%</th>\n",
       "      <td>56.580772</td>\n",
       "      <td>14.210154</td>\n",
       "      <td>11.411801</td>\n",
       "      <td>17.484095</td>\n",
       "      <td>19.993374</td>\n",
       "    </tr>\n",
       "    <tr>\n",
       "      <th>max</th>\n",
       "      <td>59.973282</td>\n",
       "      <td>89.304858</td>\n",
       "      <td>16.049029</td>\n",
       "      <td>35.812143</td>\n",
       "      <td>29.858097</td>\n",
       "    </tr>\n",
       "  </tbody>\n",
       "</table>\n",
       "</div>"
      ],
      "text/plain": [
       "              beta  exponential     normal_p     normal_l      bimodal\n",
       "count  1000.000000  1000.000000  1000.000000  1000.000000  1000.000000\n",
       "mean     50.102067    10.132942     9.984585    10.357097     0.034786\n",
       "std       8.602246    10.335633     2.037582    10.096566    20.155435\n",
       "min      11.352953     0.000477     2.498854   -25.519886   -28.746578\n",
       "25%      45.379257     2.585162     8.538781     2.989083   -19.917348\n",
       "50%      52.474401     7.026642     9.892604    10.062010     0.576204\n",
       "75%      56.580772    14.210154    11.411801    17.484095    19.993374\n",
       "max      59.973282    89.304858    16.049029    35.812143    29.858097"
      ]
     },
     "execution_count": 7,
     "metadata": {},
     "output_type": "execute_result"
    }
   ],
   "source": [
    "# Hiển thị thống kê về dữ liệu sinh ra\n",
    "df.describe()"
   ]
  },
  {
   "cell_type": "code",
   "execution_count": 8,
   "id": "6c5cdf8d",
   "metadata": {},
   "outputs": [
    {
     "data": {
      "text/plain": [
       "<AxesSubplot:ylabel='Density'>"
      ]
     },
     "execution_count": 8,
     "metadata": {},
     "output_type": "execute_result"
    },
    {
     "data": {
      "image/png": "[encoded data removed]",
      "text/plain": [
       "<Figure size 432x288 with 1 Axes>"
      ]
     },
     "metadata": {
      "needs_background": "light"
     },
     "output_type": "display_data"
    }
   ],
   "source": [
    "# Thêm một đặc trưng với giá trị lớn hơn nhiều\n",
    "normal_big = np.random.normal(1000000, 10000, (1000,1))  # normal distribution of large values\n",
    "df['normal_big'] = normal_big\n",
    "sns.kdeplot(data=df)"
   ]
  },
  {
   "cell_type": "code",
   "execution_count": 9,
   "id": "aa4dbd06",
   "metadata": {},
   "outputs": [
    {
     "data": {
      "text/plain": [
       "<AxesSubplot:>"
      ]
     },
     "execution_count": 9,
     "metadata": {},
     "output_type": "execute_result"
    },
    {
     "data": {
      "image/png": "[encoded data removed]",
      "text/plain": [
       "<Figure size 432x288 with 1 Axes>"
      ]
     },
     "metadata": {
      "needs_background": "light"
     },
     "output_type": "display_data"
    }
   ],
   "source": [
    "# trực quan hóa bằng biểu đồ box plot\n",
    "df.boxplot()"
   ]
  },
  {
   "cell_type": "code",
   "execution_count": 10,
   "id": "bb82e39c",
   "metadata": {},
   "outputs": [],
   "source": [
    "# Chuẩn hóa với Robust Scaling\n",
    "# Khai báo đối tượng Robust Scaler\n",
    "scaler = RobustScaler()"
   ]
  },
  {
   "cell_type": "code",
   "execution_count": 11,
   "id": "5d827f50",
   "metadata": {},
   "outputs": [],
   "source": [
    "# Chuẩn hóa dữ liệu trong df với StandardScaler\n",
    "df_s = scaler.fit_transform(df)\n",
    "\n",
    "# lấy danh sáchc cột\n",
    "col_names = list(df.columns)\n",
    "\n",
    "# chuyển về DataFrame, gán các cột của df cho dữ liệu đã được chuẩn hóa\n",
    "df_s = pd.DataFrame(df_s, columns=col_names)"
   ]
  },
  {
   "cell_type": "code",
   "execution_count": 12,
   "id": "f39a2fcb",
   "metadata": {},
   "outputs": [
    {
     "data": {
      "text/html": [
       "<div>\n",
       "<style scoped>\n",
       "    .dataframe tbody tr th:only-of-type {\n",
       "        vertical-align: middle;\n",
       "    }\n",
       "\n",
       "    .dataframe tbody tr th {\n",
       "        vertical-align: top;\n",
       "    }\n",
       "\n",
       "    .dataframe thead th {\n",
       "        text-align: right;\n",
       "    }\n",
       "</style>\n",
       "<table border=\"1\" class=\"dataframe\">\n",
       "  <thead>\n",
       "    <tr style=\"text-align: right;\">\n",
       "      <th></th>\n",
       "      <th>beta</th>\n",
       "      <th>exponential</th>\n",
       "      <th>normal_p</th>\n",
       "      <th>normal_l</th>\n",
       "      <th>bimodal</th>\n",
       "      <th>normal_big</th>\n",
       "    </tr>\n",
       "  </thead>\n",
       "  <tbody>\n",
       "    <tr>\n",
       "      <th>0</th>\n",
       "      <td>0.004314</td>\n",
       "      <td>0.496070</td>\n",
       "      <td>-0.131314</td>\n",
       "      <td>-0.509620</td>\n",
       "      <td>0.520273</td>\n",
       "      <td>-0.330427</td>\n",
       "    </tr>\n",
       "    <tr>\n",
       "      <th>1</th>\n",
       "      <td>0.002707</td>\n",
       "      <td>-0.515158</td>\n",
       "      <td>-0.141558</td>\n",
       "      <td>-0.307446</td>\n",
       "      <td>0.512737</td>\n",
       "      <td>0.363921</td>\n",
       "    </tr>\n",
       "    <tr>\n",
       "      <th>2</th>\n",
       "      <td>-0.116603</td>\n",
       "      <td>1.283076</td>\n",
       "      <td>0.437249</td>\n",
       "      <td>1.540274</td>\n",
       "      <td>0.507051</td>\n",
       "      <td>-0.414685</td>\n",
       "    </tr>\n",
       "    <tr>\n",
       "      <th>3</th>\n",
       "      <td>0.521750</td>\n",
       "      <td>0.882217</td>\n",
       "      <td>-0.324131</td>\n",
       "      <td>-0.699121</td>\n",
       "      <td>0.439149</td>\n",
       "      <td>-0.592594</td>\n",
       "    </tr>\n",
       "    <tr>\n",
       "      <th>4</th>\n",
       "      <td>0.555806</td>\n",
       "      <td>0.957666</td>\n",
       "      <td>0.283067</td>\n",
       "      <td>0.073746</td>\n",
       "      <td>0.493447</td>\n",
       "      <td>0.007022</td>\n",
       "    </tr>\n",
       "  </tbody>\n",
       "</table>\n",
       "</div>"
      ],
      "text/plain": [
       "       beta  exponential  normal_p  normal_l   bimodal  normal_big\n",
       "0  0.004314     0.496070 -0.131314 -0.509620  0.520273   -0.330427\n",
       "1  0.002707    -0.515158 -0.141558 -0.307446  0.512737    0.363921\n",
       "2 -0.116603     1.283076  0.437249  1.540274  0.507051   -0.414685\n",
       "3  0.521750     0.882217 -0.324131 -0.699121  0.439149   -0.592594\n",
       "4  0.555806     0.957666  0.283067  0.073746  0.493447    0.007022"
      ]
     },
     "execution_count": 12,
     "metadata": {},
     "output_type": "execute_result"
    }
   ],
   "source": [
    "df_s.head()"
   ]
  },
  {
   "cell_type": "code",
   "execution_count": 13,
   "id": "5ad7f3e8",
   "metadata": {},
   "outputs": [
    {
     "data": {
      "text/plain": [
       "<AxesSubplot:ylabel='Density'>"
      ]
     },
     "execution_count": 13,
     "metadata": {},
     "output_type": "execute_result"
    },
    {
     "data": {
      "image/png": "[encoded data removed]",
      "text/plain": [
       "<Figure size 432x288 with 1 Axes>"
      ]
     },
     "metadata": {
      "needs_background": "light"
     },
     "output_type": "display_data"
    }
   ],
   "source": [
    "# biểu diễn dữ liệu đã được chuẩn hóa\n",
    "sns.kdeplot(data=df_s)"
   ]
  },
  {
   "cell_type": "code",
   "execution_count": 14,
   "id": "78ad6319",
   "metadata": {},
   "outputs": [
    {
     "data": {
      "text/html": [
       "<div>\n",
       "<style scoped>\n",
       "    .dataframe tbody tr th:only-of-type {\n",
       "        vertical-align: middle;\n",
       "    }\n",
       "\n",
       "    .dataframe tbody tr th {\n",
       "        vertical-align: top;\n",
       "    }\n",
       "\n",
       "    .dataframe thead th {\n",
       "        text-align: right;\n",
       "    }\n",
       "</style>\n",
       "<table border=\"1\" class=\"dataframe\">\n",
       "  <thead>\n",
       "    <tr style=\"text-align: right;\">\n",
       "      <th></th>\n",
       "      <th>beta</th>\n",
       "      <th>exponential</th>\n",
       "      <th>normal_p</th>\n",
       "      <th>normal_l</th>\n",
       "      <th>bimodal</th>\n",
       "      <th>normal_big</th>\n",
       "    </tr>\n",
       "  </thead>\n",
       "  <tbody>\n",
       "    <tr>\n",
       "      <th>count</th>\n",
       "      <td>1.000000e+03</td>\n",
       "      <td>1.000000e+03</td>\n",
       "      <td>1000.000000</td>\n",
       "      <td>1.000000e+03</td>\n",
       "      <td>1000.000000</td>\n",
       "      <td>1000.000000</td>\n",
       "    </tr>\n",
       "    <tr>\n",
       "      <th>mean</th>\n",
       "      <td>-2.117869e-01</td>\n",
       "      <td>2.672088e-01</td>\n",
       "      <td>0.032015</td>\n",
       "      <td>2.035788e-02</td>\n",
       "      <td>-0.013566</td>\n",
       "      <td>0.011922</td>\n",
       "    </tr>\n",
       "    <tr>\n",
       "      <th>std</th>\n",
       "      <td>7.679538e-01</td>\n",
       "      <td>8.890873e-01</td>\n",
       "      <td>0.709212</td>\n",
       "      <td>6.965544e-01</td>\n",
       "      <td>0.505013</td>\n",
       "      <td>0.745238</td>\n",
       "    </tr>\n",
       "    <tr>\n",
       "      <th>min</th>\n",
       "      <td>-3.671061e+00</td>\n",
       "      <td>-6.044017e-01</td>\n",
       "      <td>-2.573511</td>\n",
       "      <td>-2.454768e+00</td>\n",
       "      <td>-0.734709</td>\n",
       "      <td>-2.583249</td>\n",
       "    </tr>\n",
       "    <tr>\n",
       "      <th>25%</th>\n",
       "      <td>-6.334093e-01</td>\n",
       "      <td>-3.820630e-01</td>\n",
       "      <td>-0.471219</td>\n",
       "      <td>-4.879559e-01</td>\n",
       "      <td>-0.513485</td>\n",
       "      <td>-0.486844</td>\n",
       "    </tr>\n",
       "    <tr>\n",
       "      <th>50%</th>\n",
       "      <td>-3.171833e-16</td>\n",
       "      <td>3.819102e-17</td>\n",
       "      <td>0.000000</td>\n",
       "      <td>-6.127775e-17</td>\n",
       "      <td>0.000000</td>\n",
       "      <td>0.000000</td>\n",
       "    </tr>\n",
       "    <tr>\n",
       "      <th>75%</th>\n",
       "      <td>3.665907e-01</td>\n",
       "      <td>6.179370e-01</td>\n",
       "      <td>0.528781</td>\n",
       "      <td>5.120441e-01</td>\n",
       "      <td>0.486515</td>\n",
       "      <td>0.513156</td>\n",
       "    </tr>\n",
       "    <tr>\n",
       "      <th>max</th>\n",
       "      <td>6.694524e-01</td>\n",
       "      <td>7.077701e+00</td>\n",
       "      <td>2.142840</td>\n",
       "      <td>1.776482e+00</td>\n",
       "      <td>0.733685</td>\n",
       "      <td>2.602382</td>\n",
       "    </tr>\n",
       "  </tbody>\n",
       "</table>\n",
       "</div>"
      ],
      "text/plain": [
       "               beta   exponential     normal_p      normal_l      bimodal  \\\n",
       "count  1.000000e+03  1.000000e+03  1000.000000  1.000000e+03  1000.000000   \n",
       "mean  -2.117869e-01  2.672088e-01     0.032015  2.035788e-02    -0.013566   \n",
       "std    7.679538e-01  8.890873e-01     0.709212  6.965544e-01     0.505013   \n",
       "min   -3.671061e+00 -6.044017e-01    -2.573511 -2.454768e+00    -0.734709   \n",
       "25%   -6.334093e-01 -3.820630e-01    -0.471219 -4.879559e-01    -0.513485   \n",
       "50%   -3.171833e-16  3.819102e-17     0.000000 -6.127775e-17     0.000000   \n",
       "75%    3.665907e-01  6.179370e-01     0.528781  5.120441e-01     0.486515   \n",
       "max    6.694524e-01  7.077701e+00     2.142840  1.776482e+00     0.733685   \n",
       "\n",
       "        normal_big  \n",
       "count  1000.000000  \n",
       "mean      0.011922  \n",
       "std       0.745238  \n",
       "min      -2.583249  \n",
       "25%      -0.486844  \n",
       "50%       0.000000  \n",
       "75%       0.513156  \n",
       "max       2.602382  "
      ]
     },
     "execution_count": 14,
     "metadata": {},
     "output_type": "execute_result"
    }
   ],
   "source": [
    "# thống kê về dữ liệu được sinh ra\n",
    "df_s.describe()"
   ]
  },
  {
   "cell_type": "code",
   "execution_count": 15,
   "id": "caa68d06",
   "metadata": {},
   "outputs": [
    {
     "data": {
      "text/plain": [
       "<AxesSubplot:>"
      ]
     },
     "execution_count": 15,
     "metadata": {},
     "output_type": "execute_result"
    },
    {
     "data": {
      "image/png": "[encoded data removed]",
      "text/plain": [
       "<Figure size 432x288 with 1 Axes>"
      ]
     },
     "metadata": {
      "needs_background": "light"
     },
     "output_type": "display_data"
    }
   ],
   "source": [
    "df_s.boxplot()"
   ]
  },
  {
   "cell_type": "code",
   "execution_count": 16,
   "id": "e267badb",
   "metadata": {},
   "outputs": [
    {
     "data": {
      "text/plain": [
       "[-3.6710610985372676,\n",
       " -0.6044017057733467,\n",
       " -2.5735113799767433,\n",
       " -2.4547681473608374,\n",
       " -0.7347093844047984,\n",
       " -2.583248746709627]"
      ]
     },
     "execution_count": 16,
     "metadata": {},
     "output_type": "execute_result"
    }
   ],
   "source": [
    "# lấy các giá trị min ở mỗi cột\n",
    "mins = [df_s[col].min() for col in df_s.columns]\n",
    "mins"
   ]
  },
  {
   "cell_type": "code",
   "execution_count": 17,
   "id": "bbeede2c",
   "metadata": {},
   "outputs": [
    {
     "data": {
      "text/plain": [
       "[0.6694524065061793,\n",
       " 7.077700914980438,\n",
       " 2.142840499204618,\n",
       " 1.7764822925043855,\n",
       " 0.7336848777355703,\n",
       " 2.602381889995141]"
      ]
     },
     "execution_count": 17,
     "metadata": {},
     "output_type": "execute_result"
    }
   ],
   "source": [
    "# lấy giá trị max ở mỗi cột\n",
    "maxs = [df_s[col].max() for col in df_s.columns]\n",
    "maxs"
   ]
  },
  {
   "cell_type": "code",
   "execution_count": 18,
   "id": "a30aabe5",
   "metadata": {},
   "outputs": [
    {
     "data": {
      "text/plain": [
       "array([5.24744009e+01, 7.02664162e+00, 9.89260422e+00, 1.00620098e+01,\n",
       "       5.76203853e-01, 9.99661073e+05])"
      ]
     },
     "execution_count": 18,
     "metadata": {},
     "output_type": "execute_result"
    }
   ],
   "source": [
    "# giá trị trung vị của các đặc trưng của tập dữ liệu gốc\n",
    "scaler.center_"
   ]
  }
 ],
 "metadata": {
  "kernelspec": {
   "display_name": "Python 3 (ipykernel)",
   "language": "python",
   "name": "python3"
  },
  "language_info": {
   "codemirror_mode": {
    "name": "ipython",
    "version": 3
   },
   "file_extension": ".py",
   "mimetype": "text/x-python",
   "name": "python",
   "nbconvert_exporter": "python",
   "pygments_lexer": "ipython3",
   "version": "3.9.12"
  }
 },
 "nbformat": 4,
 "nbformat_minor": 5
}
